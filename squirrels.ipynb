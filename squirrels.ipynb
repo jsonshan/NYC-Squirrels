{
 "cells": [
  {
   "cell_type": "code",
   "execution_count": 242,
   "metadata": {},
   "outputs": [],
   "source": [
    "# Importing libraries for data cleaning and data analysis\n",
    "\n",
    "import pandas as pd\n",
    "import matplotlib.pyplot as plt\n",
    "import numpy as np"
   ]
  },
  {
   "cell_type": "code",
   "execution_count": 243,
   "metadata": {},
   "outputs": [
    {
     "data": {
      "text/html": [
       "<div>\n",
       "<style scoped>\n",
       "    .dataframe tbody tr th:only-of-type {\n",
       "        vertical-align: middle;\n",
       "    }\n",
       "\n",
       "    .dataframe tbody tr th {\n",
       "        vertical-align: top;\n",
       "    }\n",
       "\n",
       "    .dataframe thead th {\n",
       "        text-align: right;\n",
       "    }\n",
       "</style>\n",
       "<table border=\"1\" class=\"dataframe\">\n",
       "  <thead>\n",
       "    <tr style=\"text-align: right;\">\n",
       "      <th></th>\n",
       "      <th>X</th>\n",
       "      <th>Y</th>\n",
       "      <th>Unique Squirrel ID</th>\n",
       "      <th>Hectare</th>\n",
       "      <th>Shift</th>\n",
       "      <th>Date</th>\n",
       "      <th>Hectare Squirrel Number</th>\n",
       "      <th>Age</th>\n",
       "      <th>Primary Fur Color</th>\n",
       "      <th>Highlight Fur Color</th>\n",
       "      <th>...</th>\n",
       "      <th>Kuks</th>\n",
       "      <th>Quaas</th>\n",
       "      <th>Moans</th>\n",
       "      <th>Tail flags</th>\n",
       "      <th>Tail twitches</th>\n",
       "      <th>Approaches</th>\n",
       "      <th>Indifferent</th>\n",
       "      <th>Runs from</th>\n",
       "      <th>Other Interactions</th>\n",
       "      <th>Lat/Long</th>\n",
       "    </tr>\n",
       "  </thead>\n",
       "  <tbody>\n",
       "    <tr>\n",
       "      <th>0</th>\n",
       "      <td>-73.956134</td>\n",
       "      <td>40.794082</td>\n",
       "      <td>37F-PM-1014-03</td>\n",
       "      <td>37F</td>\n",
       "      <td>PM</td>\n",
       "      <td>10142018</td>\n",
       "      <td>3</td>\n",
       "      <td>NaN</td>\n",
       "      <td>NaN</td>\n",
       "      <td>NaN</td>\n",
       "      <td>...</td>\n",
       "      <td>False</td>\n",
       "      <td>False</td>\n",
       "      <td>False</td>\n",
       "      <td>False</td>\n",
       "      <td>False</td>\n",
       "      <td>False</td>\n",
       "      <td>False</td>\n",
       "      <td>False</td>\n",
       "      <td>NaN</td>\n",
       "      <td>POINT (-73.9561344937861 40.7940823884086)</td>\n",
       "    </tr>\n",
       "    <tr>\n",
       "      <th>1</th>\n",
       "      <td>-73.968857</td>\n",
       "      <td>40.783783</td>\n",
       "      <td>21B-AM-1019-04</td>\n",
       "      <td>21B</td>\n",
       "      <td>AM</td>\n",
       "      <td>10192018</td>\n",
       "      <td>4</td>\n",
       "      <td>NaN</td>\n",
       "      <td>NaN</td>\n",
       "      <td>NaN</td>\n",
       "      <td>...</td>\n",
       "      <td>False</td>\n",
       "      <td>False</td>\n",
       "      <td>False</td>\n",
       "      <td>False</td>\n",
       "      <td>False</td>\n",
       "      <td>False</td>\n",
       "      <td>False</td>\n",
       "      <td>False</td>\n",
       "      <td>NaN</td>\n",
       "      <td>POINT (-73.9688574691102 40.7837825208444)</td>\n",
       "    </tr>\n",
       "    <tr>\n",
       "      <th>2</th>\n",
       "      <td>-73.974281</td>\n",
       "      <td>40.775534</td>\n",
       "      <td>11B-PM-1014-08</td>\n",
       "      <td>11B</td>\n",
       "      <td>PM</td>\n",
       "      <td>10142018</td>\n",
       "      <td>8</td>\n",
       "      <td>NaN</td>\n",
       "      <td>Gray</td>\n",
       "      <td>NaN</td>\n",
       "      <td>...</td>\n",
       "      <td>False</td>\n",
       "      <td>False</td>\n",
       "      <td>False</td>\n",
       "      <td>False</td>\n",
       "      <td>False</td>\n",
       "      <td>False</td>\n",
       "      <td>False</td>\n",
       "      <td>False</td>\n",
       "      <td>NaN</td>\n",
       "      <td>POINT (-73.97428114848522 40.775533619083)</td>\n",
       "    </tr>\n",
       "    <tr>\n",
       "      <th>3</th>\n",
       "      <td>-73.959641</td>\n",
       "      <td>40.790313</td>\n",
       "      <td>32E-PM-1017-14</td>\n",
       "      <td>32E</td>\n",
       "      <td>PM</td>\n",
       "      <td>10172018</td>\n",
       "      <td>14</td>\n",
       "      <td>Adult</td>\n",
       "      <td>Gray</td>\n",
       "      <td>NaN</td>\n",
       "      <td>...</td>\n",
       "      <td>False</td>\n",
       "      <td>False</td>\n",
       "      <td>False</td>\n",
       "      <td>False</td>\n",
       "      <td>False</td>\n",
       "      <td>False</td>\n",
       "      <td>False</td>\n",
       "      <td>True</td>\n",
       "      <td>NaN</td>\n",
       "      <td>POINT (-73.9596413903948 40.7903128889029)</td>\n",
       "    </tr>\n",
       "    <tr>\n",
       "      <th>4</th>\n",
       "      <td>-73.970268</td>\n",
       "      <td>40.776213</td>\n",
       "      <td>13E-AM-1017-05</td>\n",
       "      <td>13E</td>\n",
       "      <td>AM</td>\n",
       "      <td>10172018</td>\n",
       "      <td>5</td>\n",
       "      <td>Adult</td>\n",
       "      <td>Gray</td>\n",
       "      <td>Cinnamon</td>\n",
       "      <td>...</td>\n",
       "      <td>False</td>\n",
       "      <td>False</td>\n",
       "      <td>False</td>\n",
       "      <td>False</td>\n",
       "      <td>False</td>\n",
       "      <td>False</td>\n",
       "      <td>False</td>\n",
       "      <td>False</td>\n",
       "      <td>NaN</td>\n",
       "      <td>POINT (-73.9702676472613 40.7762126854894)</td>\n",
       "    </tr>\n",
       "  </tbody>\n",
       "</table>\n",
       "<p>5 rows × 31 columns</p>\n",
       "</div>"
      ],
      "text/plain": [
       "           X          Y Unique Squirrel ID Hectare Shift      Date  \\\n",
       "0 -73.956134  40.794082     37F-PM-1014-03     37F    PM  10142018   \n",
       "1 -73.968857  40.783783     21B-AM-1019-04     21B    AM  10192018   \n",
       "2 -73.974281  40.775534     11B-PM-1014-08     11B    PM  10142018   \n",
       "3 -73.959641  40.790313     32E-PM-1017-14     32E    PM  10172018   \n",
       "4 -73.970268  40.776213     13E-AM-1017-05     13E    AM  10172018   \n",
       "\n",
       "   Hectare Squirrel Number    Age Primary Fur Color Highlight Fur Color  ...  \\\n",
       "0                        3    NaN               NaN                 NaN  ...   \n",
       "1                        4    NaN               NaN                 NaN  ...   \n",
       "2                        8    NaN              Gray                 NaN  ...   \n",
       "3                       14  Adult              Gray                 NaN  ...   \n",
       "4                        5  Adult              Gray            Cinnamon  ...   \n",
       "\n",
       "    Kuks  Quaas  Moans Tail flags Tail twitches  Approaches  Indifferent  \\\n",
       "0  False  False  False      False         False       False        False   \n",
       "1  False  False  False      False         False       False        False   \n",
       "2  False  False  False      False         False       False        False   \n",
       "3  False  False  False      False         False       False        False   \n",
       "4  False  False  False      False         False       False        False   \n",
       "\n",
       "   Runs from  Other Interactions                                    Lat/Long  \n",
       "0      False                 NaN  POINT (-73.9561344937861 40.7940823884086)  \n",
       "1      False                 NaN  POINT (-73.9688574691102 40.7837825208444)  \n",
       "2      False                 NaN  POINT (-73.97428114848522 40.775533619083)  \n",
       "3       True                 NaN  POINT (-73.9596413903948 40.7903128889029)  \n",
       "4      False                 NaN  POINT (-73.9702676472613 40.7762126854894)  \n",
       "\n",
       "[5 rows x 31 columns]"
      ]
     },
     "execution_count": 243,
     "metadata": {},
     "output_type": "execute_result"
    }
   ],
   "source": [
    "squirrels = pd.read_csv(\"2018_Central_Park_Squirrel_Census_-_Squirrel_Data_20240320.csv\")\n",
    "\n",
    "squirrels.head()"
   ]
  },
  {
   "cell_type": "code",
   "execution_count": 244,
   "metadata": {},
   "outputs": [
    {
     "name": "stdout",
     "output_type": "stream",
     "text": [
      "<class 'pandas.core.frame.DataFrame'>\n",
      "RangeIndex: 3023 entries, 0 to 3022\n",
      "Data columns (total 31 columns):\n",
      " #   Column                                      Non-Null Count  Dtype  \n",
      "---  ------                                      --------------  -----  \n",
      " 0   X                                           3023 non-null   float64\n",
      " 1   Y                                           3023 non-null   float64\n",
      " 2   Unique Squirrel ID                          3023 non-null   object \n",
      " 3   Hectare                                     3023 non-null   object \n",
      " 4   Shift                                       3023 non-null   object \n",
      " 5   Date                                        3023 non-null   int64  \n",
      " 6   Hectare Squirrel Number                     3023 non-null   int64  \n",
      " 7   Age                                         2902 non-null   object \n",
      " 8   Primary Fur Color                           2968 non-null   object \n",
      " 9   Highlight Fur Color                         1937 non-null   object \n",
      " 10  Combination of Primary and Highlight Color  3023 non-null   object \n",
      " 11  Color notes                                 182 non-null    object \n",
      " 12  Location                                    2959 non-null   object \n",
      " 13  Above Ground Sighter Measurement            2909 non-null   object \n",
      " 14  Specific Location                           476 non-null    object \n",
      " 15  Running                                     3023 non-null   bool   \n",
      " 16  Chasing                                     3023 non-null   bool   \n",
      " 17  Climbing                                    3023 non-null   bool   \n",
      " 18  Eating                                      3023 non-null   bool   \n",
      " 19  Foraging                                    3023 non-null   bool   \n",
      " 20  Other Activities                            437 non-null    object \n",
      " 21  Kuks                                        3023 non-null   bool   \n",
      " 22  Quaas                                       3023 non-null   bool   \n",
      " 23  Moans                                       3023 non-null   bool   \n",
      " 24  Tail flags                                  3023 non-null   bool   \n",
      " 25  Tail twitches                               3023 non-null   bool   \n",
      " 26  Approaches                                  3023 non-null   bool   \n",
      " 27  Indifferent                                 3023 non-null   bool   \n",
      " 28  Runs from                                   3023 non-null   bool   \n",
      " 29  Other Interactions                          240 non-null    object \n",
      " 30  Lat/Long                                    3023 non-null   object \n",
      "dtypes: bool(13), float64(2), int64(2), object(14)\n",
      "memory usage: 463.6+ KB\n"
     ]
    }
   ],
   "source": [
    "squirrels.info()"
   ]
  },
  {
   "cell_type": "code",
   "execution_count": 245,
   "metadata": {},
   "outputs": [
    {
     "data": {
      "text/plain": [
       "(3023, 31)"
      ]
     },
     "execution_count": 245,
     "metadata": {},
     "output_type": "execute_result"
    }
   ],
   "source": [
    "\n",
    "squirrels.shape"
   ]
  },
  {
   "cell_type": "code",
   "execution_count": 246,
   "metadata": {},
   "outputs": [
    {
     "data": {
      "text/plain": [
       "Index(['X', 'Y', 'Unique Squirrel ID', 'Hectare', 'Shift', 'Date',\n",
       "       'Hectare Squirrel Number', 'Age', 'Primary Fur Color',\n",
       "       'Highlight Fur Color', 'Combination of Primary and Highlight Color',\n",
       "       'Color notes', 'Location', 'Above Ground Sighter Measurement',\n",
       "       'Specific Location', 'Running', 'Chasing', 'Climbing', 'Eating',\n",
       "       'Foraging', 'Other Activities', 'Kuks', 'Quaas', 'Moans', 'Tail flags',\n",
       "       'Tail twitches', 'Approaches', 'Indifferent', 'Runs from',\n",
       "       'Other Interactions', 'Lat/Long'],\n",
       "      dtype='object')"
      ]
     },
     "execution_count": 246,
     "metadata": {},
     "output_type": "execute_result"
    }
   ],
   "source": [
    "squirrels.columns"
   ]
  },
  {
   "cell_type": "code",
   "execution_count": 247,
   "metadata": {},
   "outputs": [
    {
     "data": {
      "text/plain": [
       "X                                                0\n",
       "Y                                                0\n",
       "Unique Squirrel ID                               0\n",
       "Hectare                                          0\n",
       "Shift                                            0\n",
       "Date                                             0\n",
       "Hectare Squirrel Number                          0\n",
       "Age                                            121\n",
       "Primary Fur Color                               55\n",
       "Highlight Fur Color                           1086\n",
       "Combination of Primary and Highlight Color       0\n",
       "Color notes                                   2841\n",
       "Location                                        64\n",
       "Above Ground Sighter Measurement               114\n",
       "Specific Location                             2547\n",
       "Running                                          0\n",
       "Chasing                                          0\n",
       "Climbing                                         0\n",
       "Eating                                           0\n",
       "Foraging                                         0\n",
       "Other Activities                              2586\n",
       "Kuks                                             0\n",
       "Quaas                                            0\n",
       "Moans                                            0\n",
       "Tail flags                                       0\n",
       "Tail twitches                                    0\n",
       "Approaches                                       0\n",
       "Indifferent                                      0\n",
       "Runs from                                        0\n",
       "Other Interactions                            2783\n",
       "Lat/Long                                         0\n",
       "dtype: int64"
      ]
     },
     "execution_count": 247,
     "metadata": {},
     "output_type": "execute_result"
    }
   ],
   "source": [
    "squirrels.isnull().sum()"
   ]
  },
  {
   "cell_type": "code",
   "execution_count": 248,
   "metadata": {},
   "outputs": [],
   "source": [
    "\n",
    "# Drop columns we are not using for data analysis\n",
    "squirrels = squirrels.drop(columns=['Hectare', 'Hectare Squirrel Number', 'Color notes', 'Specific Location', 'Other Activities', 'Other Interactions'])"
   ]
  },
  {
   "cell_type": "code",
   "execution_count": 249,
   "metadata": {},
   "outputs": [
    {
     "data": {
      "text/plain": [
       "Index(['X', 'Y', 'Unique Squirrel ID', 'Shift', 'Date', 'Age',\n",
       "       'Primary Fur Color', 'Highlight Fur Color',\n",
       "       'Combination of Primary and Highlight Color', 'Location',\n",
       "       'Above Ground Sighter Measurement', 'Running', 'Chasing', 'Climbing',\n",
       "       'Eating', 'Foraging', 'Kuks', 'Quaas', 'Moans', 'Tail flags',\n",
       "       'Tail twitches', 'Approaches', 'Indifferent', 'Runs from', 'Lat/Long'],\n",
       "      dtype='object')"
      ]
     },
     "execution_count": 249,
     "metadata": {},
     "output_type": "execute_result"
    }
   ],
   "source": [
    "squirrels.columns"
   ]
  },
  {
   "cell_type": "code",
   "execution_count": 250,
   "metadata": {},
   "outputs": [
    {
     "data": {
      "text/plain": [
       "X                                                0\n",
       "Y                                                0\n",
       "Unique Squirrel ID                               0\n",
       "Shift                                            0\n",
       "Date                                             0\n",
       "Age                                            121\n",
       "Primary Fur Color                               55\n",
       "Highlight Fur Color                           1086\n",
       "Combination of Primary and Highlight Color       0\n",
       "Location                                        64\n",
       "Above Ground Sighter Measurement               114\n",
       "Running                                          0\n",
       "Chasing                                          0\n",
       "Climbing                                         0\n",
       "Eating                                           0\n",
       "Foraging                                         0\n",
       "Kuks                                             0\n",
       "Quaas                                            0\n",
       "Moans                                            0\n",
       "Tail flags                                       0\n",
       "Tail twitches                                    0\n",
       "Approaches                                       0\n",
       "Indifferent                                      0\n",
       "Runs from                                        0\n",
       "Lat/Long                                         0\n",
       "dtype: int64"
      ]
     },
     "execution_count": 250,
     "metadata": {},
     "output_type": "execute_result"
    }
   ],
   "source": [
    "squirrels.isnull().sum()"
   ]
  },
  {
   "cell_type": "code",
   "execution_count": 251,
   "metadata": {},
   "outputs": [],
   "source": [
    "squirrels = squirrels.dropna(subset=['Age', 'Primary Fur Color', 'Location', 'Above Ground Sighter Measurement'])"
   ]
  },
  {
   "cell_type": "code",
   "execution_count": 252,
   "metadata": {},
   "outputs": [
    {
     "data": {
      "text/plain": [
       "X                                               0\n",
       "Y                                               0\n",
       "Unique Squirrel ID                              0\n",
       "Shift                                           0\n",
       "Date                                            0\n",
       "Age                                             0\n",
       "Primary Fur Color                               0\n",
       "Highlight Fur Color                           962\n",
       "Combination of Primary and Highlight Color      0\n",
       "Location                                        0\n",
       "Above Ground Sighter Measurement                0\n",
       "Running                                         0\n",
       "Chasing                                         0\n",
       "Climbing                                        0\n",
       "Eating                                          0\n",
       "Foraging                                        0\n",
       "Kuks                                            0\n",
       "Quaas                                           0\n",
       "Moans                                           0\n",
       "Tail flags                                      0\n",
       "Tail twitches                                   0\n",
       "Approaches                                      0\n",
       "Indifferent                                     0\n",
       "Runs from                                       0\n",
       "Lat/Long                                        0\n",
       "dtype: int64"
      ]
     },
     "execution_count": 252,
     "metadata": {},
     "output_type": "execute_result"
    }
   ],
   "source": [
    "squirrels.isnull().sum()"
   ]
  },
  {
   "cell_type": "code",
   "execution_count": 253,
   "metadata": {},
   "outputs": [],
   "source": [
    "# Rename columns for easy data manipulation\n",
    "\n",
    "new_cols_dict = {\n",
    "  'X' : 'longitude',\n",
    "  'Y' : 'latitude',\n",
    "  'Shift' : 'shift',\n",
    "  'Date' : 'date',\n",
    "  'Unique Squirrel ID' : 'squirrel_id',\n",
    "  'Age' : 'age',\n",
    "  'Primary Fur Color' : 'fur_color',\n",
    "  'Highlight Fur Color' : 'highlight_fur_color',\n",
    "  'Combination of Primary and Highlight Color' : 'combination_of_fur_color',\n",
    "  'Location' : 'location',\n",
    "  'Above Ground Sighter Measurement' : 'above_ground',\n",
    "  'Running' : 'running',\n",
    "  'Chasing' : 'chasing',\n",
    "  'Climbing' : 'climbing',\n",
    "  'Eating' : 'eating',\n",
    "  'Foraging' : 'foraging',\n",
    "  'Kuks' : 'kuks',\n",
    "  'Quaas' : 'quaas',\n",
    "  'Moans' : 'moans',\n",
    "  'Tail flags' : 'tail_flags',\n",
    "  'Tail twitches' : 'tail_twitches',\n",
    "  'Approaches' : 'approaches_humans',\n",
    "  'Indifferent' : 'indifferent_humans',\n",
    "  'Runs from' : 'runs_from_humans',\n",
    "  'Lat/Long' : 'lat_long'\n",
    "}\n",
    "\n",
    "squirrels.rename(new_cols_dict, axis=1, inplace=True)"
   ]
  },
  {
   "cell_type": "code",
   "execution_count": 254,
   "metadata": {},
   "outputs": [
    {
     "data": {
      "text/plain": [
       "Index(['longitude', 'latitude', 'squirrel_id', 'shift', 'date', 'age',\n",
       "       'fur_color', 'highlight_fur_color', 'combination_of_fur_color',\n",
       "       'location', 'above_ground', 'running', 'chasing', 'climbing', 'eating',\n",
       "       'foraging', 'kuks', 'quaas', 'moans', 'tail_flags', 'tail_twitches',\n",
       "       'approaches_humans', 'indifferent_humans', 'runs_from_humans',\n",
       "       'lat_long'],\n",
       "      dtype='object')"
      ]
     },
     "execution_count": 254,
     "metadata": {},
     "output_type": "execute_result"
    }
   ],
   "source": [
    "squirrels.columns"
   ]
  },
  {
   "cell_type": "code",
   "execution_count": 255,
   "metadata": {},
   "outputs": [],
   "source": [
    "# Convert date integer type to datetime\n",
    "\n",
    "# Inspecting date column\n",
    "squirrels['date']\n",
    "\n",
    "# Changing date column into string for readability\n",
    "\n",
    "squirrels['date'] = pd.to_datetime(squirrels['date'].astype(str), format='%m%d%Y')"
   ]
  },
  {
   "cell_type": "code",
   "execution_count": 256,
   "metadata": {},
   "outputs": [
    {
     "data": {
      "text/plain": [
       "6      2018-10-10\n",
       "7      2018-10-08\n",
       "8      2018-10-06\n",
       "9      2018-10-10\n",
       "10     2018-10-13\n",
       "          ...    \n",
       "3017   2018-10-18\n",
       "3018   2018-10-07\n",
       "3019   2018-10-13\n",
       "3020   2018-10-12\n",
       "3022   2018-10-12\n",
       "Name: date, Length: 2784, dtype: datetime64[ns]"
      ]
     },
     "execution_count": 256,
     "metadata": {},
     "output_type": "execute_result"
    }
   ],
   "source": [
    "squirrels['date']"
   ]
  },
  {
   "cell_type": "markdown",
   "metadata": {},
   "source": [
    "What was the date for the highest number of sightings?"
   ]
  },
  {
   "cell_type": "code",
   "execution_count": 265,
   "metadata": {},
   "outputs": [
    {
     "data": {
      "text/plain": [
       "date\n",
       "2018-10-13    386\n",
       "dtype: int64"
      ]
     },
     "execution_count": 265,
     "metadata": {},
     "output_type": "execute_result"
    }
   ],
   "source": [
    "sightings = squirrels.groupby('date').size()\n",
    "\n",
    "sightings_sorted = sightings.sort_values(ascending=False)\n",
    "\n",
    "sightings_sorted.head(1)"
   ]
  },
  {
   "cell_type": "code",
   "execution_count": 273,
   "metadata": {},
   "outputs": [
    {
     "data": {
      "image/png": "[encoded data removed]",
      "text/plain": [
       "<Figure size 1000x500 with 1 Axes>"
      ]
     },
     "metadata": {},
     "output_type": "display_data"
    }
   ],
   "source": [
    "# Excluding the year and only grabbing the month and day\n",
    "squirrels['month_day'] = squirrels['date'].dt.strftime('%m-%d')\n",
    "\n",
    "# Grabbing the total sightings each day \n",
    "sightings = squirrels.groupby('month_day').size()\n",
    "\n",
    "# Plotting the number of sightings over time\n",
    "plt.figure(figsize=(10,5))\n",
    "sightings.plot()\n",
    "plt.title(\"Squirrel Sightings\")\n",
    "plt.xlabel(\"Date\")\n",
    "plt.ylabel(\"Number of Sightings\")\n",
    "plt.grid(True)\n",
    "plt.show()"
   ]
  },
  {
   "cell_type": "markdown",
   "metadata": {},
   "source": [
    "Who runs more, adults or juveniles?"
   ]
  },
  {
   "cell_type": "code",
   "execution_count": 337,
   "metadata": {},
   "outputs": [
    {
     "name": "stdout",
     "output_type": "stream",
     "text": [
      "Adults Running:  612\n",
      "Juveniles Running:  77\n"
     ]
    }
   ],
   "source": [
    "adults_running = squirrels[(squirrels['age'] == 'Adult') & (squirrels['running'] == True)].shape[0]\n",
    "\n",
    "print(\"Adults Running: \", adults_running)\n",
    "\n",
    "juveniles_running = squirrels[(squirrels['age'] == 'Juvenile') & (squirrels['running'] == True)].shape[0]\n",
    "\n",
    "print(\"Juveniles Running: \", juveniles_running)"
   ]
  },
  {
   "cell_type": "code",
   "execution_count": 323,
   "metadata": {},
   "outputs": [
    {
     "data": {
      "text/plain": [
       "<matplotlib.legend.Legend at 0x195a72692d0>"
      ]
     },
     "execution_count": 323,
     "metadata": {},
     "output_type": "execute_result"
    },
    {
     "data": {
      "image/png": "[encoded data removed]",
      "text/plain": [
       "<Figure size 640x480 with 1 Axes>"
      ]
     },
     "metadata": {},
     "output_type": "display_data"
    }
   ],
   "source": [
    "\n",
    "# Size of the grouped running and ages columns\n",
    "running_count = squirrels.groupby(['running', 'age']).size()\n",
    "\n",
    "# Separates columns into adults and juveniles\n",
    "running_count = running_count.unstack()\n",
    "\n",
    "# Makes the Juvenile squirrels bar go on the bottom of the chart \n",
    "running_count = running_count.loc[:,::-1]\n",
    "\n",
    "# Plotting bar plot\n",
    "running_count.plot(kind='bar', stacked=True, title='Squirrels Sighted Running by Age', \n",
    "                   xlabel ='', ylabel ='Count', color=['red','lightblue'])\n",
    "plt.xticks([0, 1], ['Not Running', 'Running'])\n",
    "plt.legend(title='Age Group', labels=['Juveniles','Adults'])"
   ]
  },
  {
   "cell_type": "markdown",
   "metadata": {},
   "source": []
  },
  {
   "cell_type": "code",
   "execution_count": null,
   "metadata": {},
   "outputs": [],
   "source": []
  },
  {
   "cell_type": "code",
   "execution_count": null,
   "metadata": {},
   "outputs": [],
   "source": []
  },
  {
   "cell_type": "code",
   "execution_count": null,
   "metadata": {},
   "outputs": [],
   "source": []
  },
  {
   "cell_type": "code",
   "execution_count": null,
   "metadata": {},
   "outputs": [],
   "source": []
  },
  {
   "cell_type": "code",
   "execution_count": null,
   "metadata": {},
   "outputs": [],
   "source": []
  },
  {
   "cell_type": "code",
   "execution_count": null,
   "metadata": {},
   "outputs": [],
   "source": []
  },
  {
   "cell_type": "code",
   "execution_count": null,
   "metadata": {},
   "outputs": [],
   "source": []
  },
  {
   "cell_type": "code",
   "execution_count": null,
   "metadata": {},
   "outputs": [],
   "source": []
  }
 ],
 "metadata": {
  "kernelspec": {
   "display_name": "Python 3",
   "language": "python",
   "name": "python3"
  },
  "language_info": {
   "codemirror_mode": {
    "name": "ipython",
    "version": 3
   },
   "file_extension": ".py",
   "mimetype": "text/x-python",
   "name": "python",
   "nbconvert_exporter": "python",
   "pygments_lexer": "ipython3",
   "version": "3.11.1"
  }
 },
 "nbformat": 4,
 "nbformat_minor": 2
}
